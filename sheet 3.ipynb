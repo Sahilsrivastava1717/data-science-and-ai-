{
 "cells": [
  {
   "cell_type": "code",
   "execution_count": 12,
   "id": "a027d31a-e31e-4326-8204-c2c5484d2de5",
   "metadata": {},
   "outputs": [],
   "source": [
    "#Import numpy\n",
    "import numpy as np\n",
    "\n",
    "#Seasons\n",
    "Seasons = [\"2015\",\"2016\",\"2017\",\"2018\",\"2019\",\"2020\",\"2021\",\"2022\",\"2023\",\"2024\"]\n",
    "Sdict = {\"2015\":0,\"2016\":1,\"2017\":2,\"2018\":3,\"2019\":4,\"2020\":5,\"2021\":6,\"2022\":7,\"2023\":8,\"2024\":9}\n",
    "\n",
    "#Players\n",
    "Players = [\"Sachin\",\"Rahul\",\"Smith\",\"Sami\",\"Pollard\",\"Morris\",\"Samson\",\"Dhoni\",\"Kohli\",\"Sky\"]\n",
    "Pdict = {\"Sachin\":0,\"Rahul\":1,\"Smith\":2,\"Sami\":3,\"Pollard\":4,\"Morris\":5,\"Samson\":6,\"Dhoni\":7,\"Kohli\":8,\"Sky\":9}\n",
    "\n",
    "#Salaries\n",
    "Sachin_Salary = [15946875,17718750,19490625,21262500,23034375,24806250,25244493,27849149,30453805,23500000]\n",
    "Rahul_Salary = [12000000,12744189,13488377,14232567,14976754,16324500,18038573,19752645,21466718,23180790]\n",
    "Smith_Salary = [4621800,5828090,13041250,14410581,15779912,14500000,16022500,17545000,19067500,20644400]\n",
    "Sami_Salary = [3713640,4694041,13041250,14410581,15779912,17149243,18518574,19450000,22407474,22458000]\n",
    "Pollard_Salary = [4493160,4806720,6061274,13758000,15202590,16647180,18091770,19536360,20513178,21436271]\n",
    "Morris_Salary = [3348000,4235220,12455000,14410581,15779912,14500000,16022500,17545000,19067500,20644400]\n",
    "Samson_Salary = [3144240,3380160,3615960,4574189,13520500,14940153,16359805,17779458,18668431,20068563]\n",
    "Dhoni_Salary = [0,0,4171200,4484040,4796880,6053663,15506632,16669630,17832627,18995624]\n",
    "Kohli_Salary = [0,0,0,4822800,5184480,5546160,6993708,16402500,17632688,18862875]\n",
    "Sky_Salary = [3031920,3841443,13041250,14410581,15779912,14200000,15691000,17182000,18673000,15000000]\n",
    "#Matrix\n",
    "Salary = np.array([Sachin_Salary, Rahul_Salary, Smith_Salary, Sami_Salary, Pollard_Salary, Morris_Salary, Samson_Salary, Dhoni_Salary, Kohli_Salary, Sky_Salary])\n",
    "\n",
    "#Games \n",
    "Sachin_G = [80,77,82,82,73,82,58,78,6,35]\n",
    "Rahul_G = [82,57,82,79,76,72,60,72,79,80]\n",
    "Smith_G = [79,78,75,81,76,79,62,76,77,69]\n",
    "Sami_G = [80,65,77,66,69,77,55,67,77,40]\n",
    "Pollard_G = [82,82,82,79,82,78,54,76,71,41]\n",
    "Morris_G = [70,69,67,77,70,77,57,74,79,44]\n",
    "Samson_G = [78,64,80,78,45,80,60,70,62,82]\n",
    "Dhoni_G = [35,35,80,74,82,78,66,81,81,27]\n",
    "Kohli_G = [40,40,40,81,78,81,39,0,10,51]\n",
    "Sky_G = [75,51,51,79,77,76,49,69,54,62]\n",
    "#Matrix\n",
    "Games = np.array([Sachin_G, Rahul_G, Smith_G, Sami_G, Pollard_G, Morris_G, Samson_G, Dhoni_G, Kohli_G, Sky_G])\n",
    "\n",
    "#Points\n",
    "Sachin_PTS = [2832,2430,2323,2201,1970,2078,1616,2133,83,782]\n",
    "Rahul_PTS = [1653,1426,1779,1688,1619,1312,1129,1170,1245,1154]\n",
    "Smith_PTS = [2478,2132,2250,2304,2258,2111,1683,2036,2089,1743]\n",
    "Sami_PTS = [2122,1881,1978,1504,1943,1970,1245,1920,2112,966]\n",
    "Pollard_PTS = [1292,1443,1695,1624,1503,1784,1113,1296,1297,646]\n",
    "Morris_PTS = [1572,1561,1496,1746,1678,1438,1025,1232,1281,928]\n",
    "Samson_PTS = [1258,1104,1684,1781,841,1268,1189,1186,1185,1564]\n",
    "Dhoni_PTS = [903,903,1624,1871,2472,2161,1850,2280,2593,686]\n",
    "Kohli_PTS = [597,597,597,1361,1619,2026,852,0,159,904]\n",
    "Sky_PTS = [2040,1397,1254,2386,2045,1941,1082,1463,1028,1331]\n",
    "#Matrix\n",
    "Points = np.array([Sachin_PTS, Rahul_PTS, Smith_PTS, Sami_PTS, Pollard_PTS, Morris_PTS, Samson_PTS, Dhoni_PTS, Kohli_PTS, Sky_PTS])"
   ]
  },
  {
   "cell_type": "code",
   "execution_count": 16,
   "id": "eeaef619-f2d4-4b39-8de3-04b932cfb335",
   "metadata": {},
   "outputs": [
    {
     "data": {
      "text/plain": [
       "array([[15946875, 17718750, 19490625, 21262500, 23034375, 24806250,\n",
       "        25244493, 27849149, 30453805, 23500000],\n",
       "       [12000000, 12744189, 13488377, 14232567, 14976754, 16324500,\n",
       "        18038573, 19752645, 21466718, 23180790],\n",
       "       [ 4621800,  5828090, 13041250, 14410581, 15779912, 14500000,\n",
       "        16022500, 17545000, 19067500, 20644400],\n",
       "       [ 3713640,  4694041, 13041250, 14410581, 15779912, 17149243,\n",
       "        18518574, 19450000, 22407474, 22458000],\n",
       "       [ 4493160,  4806720,  6061274, 13758000, 15202590, 16647180,\n",
       "        18091770, 19536360, 20513178, 21436271],\n",
       "       [ 3348000,  4235220, 12455000, 14410581, 15779912, 14500000,\n",
       "        16022500, 17545000, 19067500, 20644400],\n",
       "       [ 3144240,  3380160,  3615960,  4574189, 13520500, 14940153,\n",
       "        16359805, 17779458, 18668431, 20068563],\n",
       "       [       0,        0,  4171200,  4484040,  4796880,  6053663,\n",
       "        15506632, 16669630, 17832627, 18995624],\n",
       "       [       0,        0,        0,  4822800,  5184480,  5546160,\n",
       "         6993708, 16402500, 17632688, 18862875],\n",
       "       [ 3031920,  3841443, 13041250, 14410581, 15779912, 14200000,\n",
       "        15691000, 17182000, 18673000, 15000000]])"
      ]
     },
     "execution_count": 16,
     "metadata": {},
     "output_type": "execute_result"
    }
   ],
   "source": [
    "Salary "
   ]
  },
  {
   "cell_type": "code",
   "execution_count": 18,
   "id": "33848809-bfb0-4f57-916f-65b0bc86eb91",
   "metadata": {},
   "outputs": [
    {
     "data": {
      "text/plain": [
       "array([[80, 77, 82, 82, 73, 82, 58, 78,  6, 35],\n",
       "       [82, 57, 82, 79, 76, 72, 60, 72, 79, 80],\n",
       "       [79, 78, 75, 81, 76, 79, 62, 76, 77, 69],\n",
       "       [80, 65, 77, 66, 69, 77, 55, 67, 77, 40],\n",
       "       [82, 82, 82, 79, 82, 78, 54, 76, 71, 41],\n",
       "       [70, 69, 67, 77, 70, 77, 57, 74, 79, 44],\n",
       "       [78, 64, 80, 78, 45, 80, 60, 70, 62, 82],\n",
       "       [35, 35, 80, 74, 82, 78, 66, 81, 81, 27],\n",
       "       [40, 40, 40, 81, 78, 81, 39,  0, 10, 51],\n",
       "       [75, 51, 51, 79, 77, 76, 49, 69, 54, 62]])"
      ]
     },
     "execution_count": 18,
     "metadata": {},
     "output_type": "execute_result"
    }
   ],
   "source": [
    "Games"
   ]
  },
  {
   "cell_type": "code",
   "execution_count": 20,
   "id": "b07a9393-01ac-44dc-8c0a-69a6eafb9f92",
   "metadata": {},
   "outputs": [
    {
     "data": {
      "text/plain": [
       "array([[2832, 2430, 2323, 2201, 1970, 2078, 1616, 2133,   83,  782],\n",
       "       [1653, 1426, 1779, 1688, 1619, 1312, 1129, 1170, 1245, 1154],\n",
       "       [2478, 2132, 2250, 2304, 2258, 2111, 1683, 2036, 2089, 1743],\n",
       "       [2122, 1881, 1978, 1504, 1943, 1970, 1245, 1920, 2112,  966],\n",
       "       [1292, 1443, 1695, 1624, 1503, 1784, 1113, 1296, 1297,  646],\n",
       "       [1572, 1561, 1496, 1746, 1678, 1438, 1025, 1232, 1281,  928],\n",
       "       [1258, 1104, 1684, 1781,  841, 1268, 1189, 1186, 1185, 1564],\n",
       "       [ 903,  903, 1624, 1871, 2472, 2161, 1850, 2280, 2593,  686],\n",
       "       [ 597,  597,  597, 1361, 1619, 2026,  852,    0,  159,  904],\n",
       "       [2040, 1397, 1254, 2386, 2045, 1941, 1082, 1463, 1028, 1331]])"
      ]
     },
     "execution_count": 20,
     "metadata": {},
     "output_type": "execute_result"
    }
   ],
   "source": [
    "Points"
   ]
  },
  {
   "cell_type": "code",
   "execution_count": 22,
   "id": "c8f45549-0410-47b8-b7c4-092a6569043c",
   "metadata": {},
   "outputs": [
    {
     "data": {
      "text/plain": [
       "['Sachin',\n",
       " 'Rahul',\n",
       " 'Smith',\n",
       " 'Sami',\n",
       " 'Pollard',\n",
       " 'Morris',\n",
       " 'Samson',\n",
       " 'Dhoni',\n",
       " 'Kohli',\n",
       " 'Sky']"
      ]
     },
     "execution_count": 22,
     "metadata": {},
     "output_type": "execute_result"
    }
   ],
   "source": [
    "Players"
   ]
  },
  {
   "cell_type": "code",
   "execution_count": 24,
   "id": "dd59c17c-7645-4a8c-a3ca-6590f70309d8",
   "metadata": {},
   "outputs": [
    {
     "data": {
      "text/plain": [
       "['2015',\n",
       " '2016',\n",
       " '2017',\n",
       " '2018',\n",
       " '2019',\n",
       " '2020',\n",
       " '2021',\n",
       " '2022',\n",
       " '2023',\n",
       " '2024']"
      ]
     },
     "execution_count": 24,
     "metadata": {},
     "output_type": "execute_result"
    }
   ],
   "source": [
    "Seasons"
   ]
  },
  {
   "cell_type": "code",
   "execution_count": 26,
   "id": "c101d100-8187-4ab0-8a16-581241d02ce8",
   "metadata": {},
   "outputs": [
    {
     "data": {
      "text/plain": [
       "array([15946875, 17718750, 19490625, 21262500, 23034375, 24806250,\n",
       "       25244493, 27849149, 30453805, 23500000])"
      ]
     },
     "execution_count": 26,
     "metadata": {},
     "output_type": "execute_result"
    }
   ],
   "source": [
    "Salary[0]"
   ]
  },
  {
   "cell_type": "code",
   "execution_count": 30,
   "id": "d6458be2-2130-4641-8dda-995c2c0022d8",
   "metadata": {},
   "outputs": [
    {
     "data": {
      "text/plain": [
       "array([[80, 77, 82, 82, 73, 82, 58, 78,  6, 35],\n",
       "       [82, 57, 82, 79, 76, 72, 60, 72, 79, 80],\n",
       "       [79, 78, 75, 81, 76, 79, 62, 76, 77, 69],\n",
       "       [80, 65, 77, 66, 69, 77, 55, 67, 77, 40],\n",
       "       [82, 82, 82, 79, 82, 78, 54, 76, 71, 41],\n",
       "       [70, 69, 67, 77, 70, 77, 57, 74, 79, 44],\n",
       "       [78, 64, 80, 78, 45, 80, 60, 70, 62, 82],\n",
       "       [35, 35, 80, 74, 82, 78, 66, 81, 81, 27],\n",
       "       [40, 40, 40, 81, 78, 81, 39,  0, 10, 51],\n",
       "       [75, 51, 51, 79, 77, 76, 49, 69, 54, 62]])"
      ]
     },
     "execution_count": 30,
     "metadata": {},
     "output_type": "execute_result"
    }
   ],
   "source": [
    "Games"
   ]
  },
  {
   "cell_type": "code",
   "execution_count": 28,
   "id": "974e8e68-53f9-4b8b-be99-6fe770f792db",
   "metadata": {},
   "outputs": [
    {
     "data": {
      "text/plain": [
       "array([[82, 57, 82, 79, 76, 72, 60, 72, 79, 80],\n",
       "       [79, 78, 75, 81, 76, 79, 62, 76, 77, 69],\n",
       "       [80, 65, 77, 66, 69, 77, 55, 67, 77, 40],\n",
       "       [82, 82, 82, 79, 82, 78, 54, 76, 71, 41]])"
      ]
     },
     "execution_count": 28,
     "metadata": {},
     "output_type": "execute_result"
    }
   ],
   "source": [
    "Games[1:5]"
   ]
  },
  {
   "cell_type": "code",
   "execution_count": 32,
   "id": "6a0e5b49-f330-41a4-8c89-266bc7dd284f",
   "metadata": {},
   "outputs": [
    {
     "data": {
      "text/plain": [
       "72"
      ]
     },
     "execution_count": 32,
     "metadata": {},
     "output_type": "execute_result"
    }
   ],
   "source": [
    "Games[1,5]"
   ]
  },
  {
   "cell_type": "code",
   "execution_count": 34,
   "id": "424c5c82-7603-4545-95b1-fce00d5e53fa",
   "metadata": {},
   "outputs": [
    {
     "data": {
      "text/plain": [
       "{'Sachin': 0,\n",
       " 'Rahul': 1,\n",
       " 'Smith': 2,\n",
       " 'Sami': 3,\n",
       " 'Pollard': 4,\n",
       " 'Morris': 5,\n",
       " 'Samson': 6,\n",
       " 'Dhoni': 7,\n",
       " 'Kohli': 8,\n",
       " 'Sky': 9}"
      ]
     },
     "execution_count": 34,
     "metadata": {},
     "output_type": "execute_result"
    }
   ],
   "source": [
    "Pdict"
   ]
  },
  {
   "cell_type": "code",
   "execution_count": 36,
   "id": "1b77839c-95c0-4855-b02e-287de56d61e6",
   "metadata": {},
   "outputs": [
    {
     "name": "stderr",
     "output_type": "stream",
     "text": [
      "C:\\Users\\sahil\\AppData\\Local\\Temp\\ipykernel_36328\\3709746658.py:1: RuntimeWarning: divide by zero encountered in divide\n",
      "  Salary/Games\n"
     ]
    },
    {
     "data": {
      "text/plain": [
       "array([[ 199335.9375    ,  230113.63636364,  237690.54878049,\n",
       "         259298.7804878 ,  315539.38356164,  302515.24390244,\n",
       "         435249.87931034,  357040.37179487, 5075634.16666667,\n",
       "         671428.57142857],\n",
       "       [ 146341.46341463,  223582.26315789,  164492.40243902,\n",
       "         180159.07594937,  197062.55263158,  226729.16666667,\n",
       "         300642.88333333,  274342.29166667,  271730.60759494,\n",
       "         289759.875     ],\n",
       "       [  58503.79746835,   74719.1025641 ,  173883.33333333,\n",
       "         177908.40740741,  207630.42105263,  183544.30379747,\n",
       "         258427.41935484,  230855.26315789,  247629.87012987,\n",
       "         299194.20289855],\n",
       "       [  46420.5       ,   72216.01538462,  169366.88311688,\n",
       "         218342.13636364,  228694.37681159,  222717.44155844,\n",
       "         336701.34545455,  290298.50746269,  291006.15584416,\n",
       "         561450.        ],\n",
       "       [  54794.63414634,   58618.53658537,   73917.97560976,\n",
       "         174151.89873418,  185397.43902439,  213425.38461538,\n",
       "         335032.77777778,  257057.36842105,  288918.        ,\n",
       "         522835.87804878],\n",
       "       [  47828.57142857,   61380.        ,  185895.52238806,\n",
       "         187150.4025974 ,  225427.31428571,  188311.68831169,\n",
       "         281096.49122807,  237094.59459459,  241360.75949367,\n",
       "         469190.90909091],\n",
       "       [  40310.76923077,   52815.        ,   45199.5       ,\n",
       "          58643.44871795,  300455.55555556,  186751.9125    ,\n",
       "         272663.41666667,  253992.25714286,  301103.72580645,\n",
       "         244738.57317073],\n",
       "       [      0.        ,       0.        ,   52140.        ,\n",
       "          60595.13513514,   58498.53658537,   77611.06410256,\n",
       "         234948.96969697,  205797.90123457,  220155.88888889,\n",
       "         703541.62962963],\n",
       "       [      0.        ,       0.        ,       0.        ,\n",
       "          59540.74074074,   66467.69230769,   68471.11111111,\n",
       "         179325.84615385,              inf, 1763268.8       ,\n",
       "         369860.29411765],\n",
       "       [  40425.6       ,   75322.41176471,  255710.78431373,\n",
       "         182412.41772152,  204933.92207792,  186842.10526316,\n",
       "         320224.48979592,  249014.49275362,  345796.2962963 ,\n",
       "         241935.48387097]])"
      ]
     },
     "execution_count": 36,
     "metadata": {},
     "output_type": "execute_result"
    }
   ],
   "source": [
    "Salary/Games"
   ]
  },
  {
   "cell_type": "code",
   "execution_count": 90,
   "id": "d13162d3-6a2a-4092-93d8-9a8b4fd09fd7",
   "metadata": {},
   "outputs": [],
   "source": [
    "import warnings\n",
    "warnings.filterwarnings(\"ignore\")"
   ]
  },
  {
   "cell_type": "code",
   "execution_count": 92,
   "id": "4d4d69c2-5f95-4b4a-912a-020fccf55461",
   "metadata": {},
   "outputs": [],
   "source": [
    "import numpy as np\n",
    "import matplotlib.pyplot as plt"
   ]
  },
  {
   "cell_type": "code",
   "execution_count": 94,
   "id": "48fa2bb1-4a1b-41e6-a42d-9252b3be377b",
   "metadata": {},
   "outputs": [
    {
     "data": {
      "text/plain": [
       "array([15946875, 17718750, 19490625, 21262500, 23034375, 24806250,\n",
       "       25244493, 27849149, 30453805, 23500000])"
      ]
     },
     "execution_count": 94,
     "metadata": {},
     "output_type": "execute_result"
    }
   ],
   "source": [
    "Salary[0]"
   ]
  },
  {
   "cell_type": "code",
   "execution_count": 96,
   "id": "f980e942-fb55-4ad8-9c42-d4770ca6a3f7",
   "metadata": {},
   "outputs": [
    {
     "data": {
      "text/plain": [
       "[<matplotlib.lines.Line2D at 0x2093fa09640>]"
      ]
     },
     "execution_count": 96,
     "metadata": {},
     "output_type": "execute_result"
    },
    {
     "data": {
      "image/png": "[encoded data removed]",
      "text/plain": [
       "<Figure size 640x480 with 1 Axes>"
      ]
     },
     "metadata": {},
     "output_type": "display_data"
    }
   ],
   "source": [
    "plt.plot(Salary[0])"
   ]
  },
  {
   "cell_type": "code",
   "execution_count": 98,
   "id": "3278a439-1ac8-4fe5-bd75-fe8990c1d492",
   "metadata": {},
   "outputs": [
    {
     "data": {
      "text/plain": [
       "[<matplotlib.lines.Line2D at 0x2093fe316d0>]"
      ]
     },
     "execution_count": 98,
     "metadata": {},
     "output_type": "execute_result"
    },
    {
     "data": {
      "image/png": "[encoded data removed]",
      "text/plain": [
       "<Figure size 640x480 with 1 Axes>"
      ]
     },
     "metadata": {},
     "output_type": "display_data"
    }
   ],
   "source": [
    "plt.plot(Salary[0], c = \"Green\",ls = '--')"
   ]
  },
  {
   "cell_type": "code",
   "execution_count": 100,
   "id": "b3259e8a-d68e-411b-ac90-234d734c7844",
   "metadata": {},
   "outputs": [
    {
     "data": {
      "text/plain": [
       "[]"
      ]
     },
     "execution_count": 100,
     "metadata": {},
     "output_type": "execute_result"
    },
    {
     "data": {
      "image/png": "[encoded data removed]",
      "text/plain": [
       "<Figure size 640x480 with 1 Axes>"
      ]
     },
     "metadata": {},
     "output_type": "display_data"
    }
   ],
   "source": [
    "plt.plot(Salary =[0], c = \"Green\", ls = '--' , ms=\"s\",)"
   ]
  },
  {
   "cell_type": "code",
   "execution_count": null,
   "id": "3ff9b1c2-01ca-4f37-b16a-fd97e21c06b4",
   "metadata": {},
   "outputs": [],
   "source": []
  },
  {
   "cell_type": "code",
   "execution_count": null,
   "id": "2435272d-3a87-414c-b206-67882c30142e",
   "metadata": {},
   "outputs": [],
   "source": []
  },
  {
   "cell_type": "code",
   "execution_count": null,
   "id": "dd5b519f-ac00-4e07-8729-6511a44a55ed",
   "metadata": {},
   "outputs": [],
   "source": []
  }
 ],
 "metadata": {
  "kernelspec": {
   "display_name": "Python [conda env:base] *",
   "language": "python",
   "name": "conda-base-py"
  },
  "language_info": {
   "codemirror_mode": {
    "name": "ipython",
    "version": 3
   },
   "file_extension": ".py",
   "mimetype": "text/x-python",
   "name": "python",
   "nbconvert_exporter": "python",
   "pygments_lexer": "ipython3",
   "version": "3.12.7"
  }
 },
 "nbformat": 4,
 "nbformat_minor": 5
}
