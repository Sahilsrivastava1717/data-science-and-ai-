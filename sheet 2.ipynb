{
 "cells": [
  {
   "cell_type": "code",
   "execution_count": 1,
   "id": "6dc63a30-894f-4ffb-856e-0fb4bbf60c62",
   "metadata": {},
   "outputs": [
    {
     "name": "stdout",
     "output_type": "stream",
     "text": [
      "hello world\n"
     ]
    }
   ],
   "source": [
    "print(\"hello world\")\n"
   ]
  },
  {
   "cell_type": "code",
   "execution_count": 8,
   "id": "3eae6e8a-48db-4575-a7e6-9662ad214b06",
   "metadata": {},
   "outputs": [
    {
     "name": "stdout",
     "output_type": "stream",
     "text": [
      "sahil\n",
      "55\n"
     ]
    }
   ],
   "source": [
    "name=\"sahil\" \n",
    "age=\"55\"\n",
    "print(name)\n",
    "print(age)"
   ]
  },
  {
   "cell_type": "raw",
   "id": "b66a954e-a119-4f45-9011-bc0b5b6dd945",
   "metadata": {},
   "source": []
  },
  {
   "cell_type": "code",
   "execution_count": 23,
   "id": "ce302f70-1fb0-4f54-818a-7c1888ea111d",
   "metadata": {},
   "outputs": [
    {
     "name": "stdin",
     "output_type": "stream",
     "text": [
      "what is your name?  1\n"
     ]
    },
    {
     "ename": "TypeError",
     "evalue": "'str' object is not callable",
     "output_type": "error",
     "traceback": [
      "\u001b[1;31m---------------------------------------------------------------------------\u001b[0m",
      "\u001b[1;31mTypeError\u001b[0m                                 Traceback (most recent call last)",
      "Cell \u001b[1;32mIn[23], line 2\u001b[0m\n\u001b[0;32m      1\u001b[0m name \u001b[38;5;241m=\u001b[39m \u001b[38;5;28minput\u001b[39m(\u001b[38;5;124m\"\u001b[39m\u001b[38;5;124mwhat is your name? \u001b[39m\u001b[38;5;124m\"\u001b[39m)\n\u001b[1;32m----> 2\u001b[0m \u001b[38;5;28;43mprint\u001b[39;49m\u001b[43m(\u001b[49m\u001b[43mname\u001b[49m\u001b[43m)\u001b[49m\n",
      "\u001b[1;31mTypeError\u001b[0m: 'str' object is not callable"
     ]
    }
   ],
   "source": [
    "name = input(\"what is your name? \")\n",
    "print(name)"
   ]
  },
  {
   "cell_type": "code",
   "execution_count": 24,
   "id": "a4369b80-b211-4693-a9d7-60704e41fe3f",
   "metadata": {},
   "outputs": [
    {
     "name": "stdin",
     "output_type": "stream",
     "text": [
      "enter ur old_age :  22\n"
     ]
    },
    {
     "ename": "TypeError",
     "evalue": "'str' object is not callable",
     "output_type": "error",
     "traceback": [
      "\u001b[1;31m---------------------------------------------------------------------------\u001b[0m",
      "\u001b[1;31mTypeError\u001b[0m                                 Traceback (most recent call last)",
      "Cell \u001b[1;32mIn[24], line 3\u001b[0m\n\u001b[0;32m      1\u001b[0m old_age \u001b[38;5;241m=\u001b[39m \u001b[38;5;28minput\u001b[39m(\u001b[38;5;124m\"\u001b[39m\u001b[38;5;124menter ur old_age : \u001b[39m\u001b[38;5;124m\"\u001b[39m)\n\u001b[0;32m      2\u001b[0m new_age \u001b[38;5;241m=\u001b[39m \u001b[38;5;28mint\u001b[39m(old_age) \u001b[38;5;241m+\u001b[39m \u001b[38;5;241m2\u001b[39m\n\u001b[1;32m----> 3\u001b[0m \u001b[38;5;28;43mprint\u001b[39;49m\u001b[43m(\u001b[49m\u001b[43mnew_age\u001b[49m\u001b[43m)\u001b[49m\n",
      "\u001b[1;31mTypeError\u001b[0m: 'str' object is not callable"
     ]
    }
   ],
   "source": [
    "old_age = input(\"enter ur old_age : \")\n",
    "new_age = int(old_age) + 2\n",
    "print(new_age)"
   ]
  },
  {
   "cell_type": "code",
   "execution_count": 44,
   "id": "1e7e8398-79c8-415c-a46d-e9b28ded700f",
   "metadata": {},
   "outputs": [
    {
     "ename": "SyntaxError",
     "evalue": "incomplete input (3555449740.py, line 3)",
     "output_type": "error",
     "traceback": [
      "\u001b[1;36m  Cell \u001b[1;32mIn[44], line 3\u001b[1;36m\u001b[0m\n\u001b[1;33m    print(i\u001b[0m\n\u001b[1;37m           ^\u001b[0m\n\u001b[1;31mSyntaxError\u001b[0m\u001b[1;31m:\u001b[0m incomplete input\n"
     ]
    }
   ],
   "source": [
    "i=1\n",
    "while i<= 10:\n",
    "    print(i"
   ]
  },
  {
   "cell_type": "code",
   "execution_count": 1,
   "id": "09f6b79c-2164-4286-a0d7-560e1f8cf2d7",
   "metadata": {},
   "outputs": [
    {
     "name": "stdout",
     "output_type": "stream",
     "text": [
      "<class 'str'>\n",
      "<class 'str'>\n",
      "<class 'str'>\n"
     ]
    }
   ],
   "source": [
    "a = \"sahil\"\n",
    "b = \"23\"\n",
    "c = \"0\"\n",
    "print(type(a))\n",
    "print(type(b))\n",
    "print(type(c))"
   ]
  },
  {
   "cell_type": "code",
   "execution_count": 20,
   "id": "3c413e97-8fcf-417e-bc93-bd5de9351f96",
   "metadata": {},
   "outputs": [
    {
     "name": "stdin",
     "output_type": "stream",
     "text": [
      "enter ur name Sahil\n"
     ]
    },
    {
     "name": "stdout",
     "output_type": "stream",
     "text": [
      "not present\n"
     ]
    }
   ],
   "source": [
    "a = [\"sahil\" , \"maanav\" , \"sujal\"]\n",
    "name = input(\"enter ur name\")\n",
    "if(name in a):\n",
    "    print(\"present\")\n",
    "else:\n",
    "    print(\"not present\")\n",
    "    \n"
   ]
  },
  {
   "cell_type": "code",
   "execution_count": 38,
   "id": "d6b39479-da4b-4cf0-abcb-481b801a2d6e",
   "metadata": {},
   "outputs": [
    {
     "name": "stdin",
     "output_type": "stream",
     "text": [
      "enter ur marks 89\n"
     ]
    },
    {
     "name": "stdout",
     "output_type": "stream",
     "text": [
      "a\n",
      "not available\n"
     ]
    }
   ],
   "source": [
    "marks = int(input(\"enter ur marks\"))\n",
    "\n",
    "if(marks<=100 and marks>=90):\n",
    "    print(\"ex\")\n",
    "if(marks<=90 and marks>=80):\n",
    "    print(\"a\")\n",
    "if(marks<=80 and marks>=70):\n",
    "    print(\"b\")\n",
    "else:\n",
    "    print(\"not available\")\n",
    "    "
   ]
  },
  {
   "cell_type": "code",
   "execution_count": 52,
   "id": "58726cb1-97b8-45d0-b4fc-3179d9acf6c2",
   "metadata": {},
   "outputs": [
    {
     "name": "stdin",
     "output_type": "stream",
     "text": [
      "enter the post  hi there is sahil \n"
     ]
    },
    {
     "name": "stdout",
     "output_type": "stream",
     "text": [
      "present\n"
     ]
    }
   ],
   "source": [
    "post = input(\"enter the post \")\n",
    "if(\"sahil\" in post):\n",
    "    print(\"present\")\n",
    "else:\n",
    "    print(\"not present\")\n"
   ]
  },
  {
   "cell_type": "code",
   "execution_count": 66,
   "id": "9b92dde8-ac26-42ed-a631-e907f08c17af",
   "metadata": {},
   "outputs": [
    {
     "name": "stdin",
     "output_type": "stream",
     "text": [
      "enter the number 4\n",
      "enter the number 5\n",
      "enter the number 6\n"
     ]
    },
    {
     "name": "stdout",
     "output_type": "stream",
     "text": [
      "5.0\n",
      "thankyou\n"
     ]
    },
    {
     "name": "stdin",
     "output_type": "stream",
     "text": [
      "enter the number 55\n",
      "enter the number 5\n",
      "enter the number 5\n"
     ]
    },
    {
     "name": "stdout",
     "output_type": "stream",
     "text": [
      "21.666666666666668\n"
     ]
    }
   ],
   "source": [
    "def avg():\n",
    "    a = int(input(\"enter the number\"))\n",
    "    b = int(input(\"enter the number\"))\n",
    "    c = int(input(\"enter the number\"))\n",
    "\n",
    "    average = (a+b+c)/3\n",
    "    print(average)\n",
    "avg()\n",
    "print(\"thankyou\")\n",
    "avg()\n",
    "\n"
   ]
  },
  {
   "cell_type": "code",
   "execution_count": 74,
   "id": "1ede3486-ed36-472b-a5b2-70ada5aebd74",
   "metadata": {},
   "outputs": [
    {
     "data": {
      "text/plain": [
       "int"
      ]
     },
     "execution_count": 74,
     "metadata": {},
     "output_type": "execute_result"
    }
   ],
   "source": [
    "var1 = 33\n",
    "type(var1)"
   ]
  },
  {
   "cell_type": "code",
   "execution_count": 76,
   "id": "9ae4c3ec-7a8b-458f-af44-1ab0970eb47f",
   "metadata": {},
   "outputs": [
    {
     "data": {
      "text/plain": [
       "33"
      ]
     },
     "execution_count": 76,
     "metadata": {},
     "output_type": "execute_result"
    }
   ],
   "source": [
    "var1 = 33\n",
    "var1"
   ]
  },
  {
   "cell_type": "markdown",
   "id": "f30e5c39-c8d9-4099-ba24-e13bfe39120f",
   "metadata": {},
   "source": [
    "va "
   ]
  },
  {
   "cell_type": "code",
   "execution_count": 78,
   "id": "4a060956-a27c-4797-83e0-f490620cbcd6",
   "metadata": {},
   "outputs": [
    {
     "data": {
      "text/plain": [
       "float"
      ]
     },
     "execution_count": 78,
     "metadata": {},
     "output_type": "execute_result"
    }
   ],
   "source": [
    "var1 = 1.440\n",
    "type(var1)"
   ]
  },
  {
   "cell_type": "code",
   "execution_count": 80,
   "id": "88adc65f-99d5-4072-904d-504916c9415b",
   "metadata": {},
   "outputs": [
    {
     "data": {
      "text/plain": [
       "40"
      ]
     },
     "execution_count": 80,
     "metadata": {},
     "output_type": "execute_result"
    }
   ],
   "source": [
    "a,b = 10,30\n",
    "a+b"
   ]
  },
  {
   "cell_type": "code",
   "execution_count": 82,
   "id": "33f69947-b12b-49e9-9630-a43f59d910b5",
   "metadata": {},
   "outputs": [
    {
     "data": {
      "text/plain": [
       "float"
      ]
     },
     "execution_count": 82,
     "metadata": {},
     "output_type": "execute_result"
    }
   ],
   "source": [
    "var1 = 22.4\n",
    "type(var1)"
   ]
  },
  {
   "cell_type": "code",
   "execution_count": 96,
   "id": "689cf284-2f8e-4044-9632-1b706ea3d810",
   "metadata": {},
   "outputs": [],
   "source": [
    "st = \"mynname is sahil \"\n",
    "f = open(\"file.io\",\"w\")\n",
    "f.write(st)\n",
    "f.close()\n",
    " "
   ]
  },
  {
   "cell_type": "code",
   "execution_count": 104,
   "id": "85c7c27d-342e-4753-a0ab-7882c02d2b76",
   "metadata": {},
   "outputs": [
    {
     "name": "stdout",
     "output_type": "stream",
     "text": [
      "hary telugu\n"
     ]
    }
   ],
   "source": [
    "class employe():\n",
    "    name = \"hary\"\n",
    "    lang = \"telugu\"\n",
    "    salary = 12000\n",
    "harry = employe()\n",
    "print(harry.name,harry.lang)"
   ]
  },
  {
   "cell_type": "code",
   "execution_count": 130,
   "id": "90bae7ee-bc24-48fb-8beb-7484fa90c659",
   "metadata": {},
   "outputs": [
    {
     "name": "stdout",
     "output_type": "stream",
     "text": [
      "sahil 24 240000 microsoft\n"
     ]
    }
   ],
   "source": [
    "class worker():\n",
    "    company = \"microsoft\"\n",
    "    def __init__(self,name,age,salary):\n",
    "        self.name = name\n",
    "        self.age = age \n",
    "        self.salary = salary\n",
    "w = worker(\"sahil\",24,240000)\n",
    "print(w.name ,w.age ,w.salary ,w.company)"
   ]
  },
  {
   "cell_type": "code",
   "execution_count": 196,
   "id": "fc0b01bf-0aa1-4a06-b975-3d25b7c832b7",
   "metadata": {},
   "outputs": [
    {
     "name": "stdout",
     "output_type": "stream",
     "text": [
      "the square is 16\n"
     ]
    }
   ],
   "source": [
    "class calculator():\n",
    "     def __init__(self, n):\n",
    "         self.n = n\n",
    "     def square(self):\n",
    "        print(f\"the square is {self.n*self.n}\")\n",
    "a = calculator(4)\n",
    "a.square()\n",
    "    "
   ]
  },
  {
   "cell_type": "code",
   "execution_count": null,
   "id": "1b438f74-10bd-4bf8-a6be-cb7b106e85e8",
   "metadata": {},
   "outputs": [],
   "source": [
    "a = int(input(\"enter\"))\n",
    "b = int(input(\"enter\"))\n",
    "c = int(input(\"enter\"))\n",
    "\n",
    "#addition\n",
    "a = "
   ]
  },
  {
   "cell_type": "code",
   "execution_count": 1,
   "id": "e4bd0215-0c92-4572-83b3-fc945dfdc9d3",
   "metadata": {},
   "outputs": [
    {
     "name": "stdin",
     "output_type": "stream",
     "text": [
      "enter the number btw 1 to 100 : 77\n"
     ]
    },
    {
     "name": "stdout",
     "output_type": "stream",
     "text": [
      "too high \n"
     ]
    }
   ],
   "source": [
    "import random\n",
    "guess_number = random.randint(1,100)\n",
    "user_input = int(input(\"enter the number btw 1 to 100 :\"))\n",
    "if not isinstance(user_input, int) :\n",
    "  print(\"invalid input\")\n",
    "elif guess_number >= 30:\n",
    "  print(\"too high \")\n",
    "elif guess_number <= 30:\n",
    "  print(\"too low\")\n",
    "else:\n",
    "  print(\"well done \")"
   ]
  },
  {
   "cell_type": "code",
   "execution_count": 3,
   "id": "6a288ce8-9634-4c49-a1d1-8c40c3d6cef1",
   "metadata": {},
   "outputs": [
    {
     "ename": "IndentationError",
     "evalue": "expected an indented block after 'if' statement on line 5 (3818960372.py, line 6)",
     "output_type": "error",
     "traceback": [
      "\u001b[1;36m  Cell \u001b[1;32mIn[3], line 6\u001b[1;36m\u001b[0m\n\u001b[1;33m    print(\"too high \")\u001b[0m\n\u001b[1;37m    ^\u001b[0m\n\u001b[1;31mIndentationError\u001b[0m\u001b[1;31m:\u001b[0m expected an indented block after 'if' statement on line 5\n"
     ]
    }
   ],
   "source": [
    "import random\n",
    "guess_number = random.randint(1,100)\n",
    "try:\n",
    "  user_input = int(input(\"enter the number btw 1 to 100 :\"))\n",
    "  if guess_number >= 30:\n",
    "  print(\"too high \")\n",
    "  elif guess_number <= 30:\n",
    "  print(\"too low\")\n",
    "  else:\n",
    "  print(\"well done \")\n",
    "except:\n",
    "  print(\"invalid input\")"
   ]
  },
  {
   "cell_type": "code",
   "execution_count": 5,
   "id": "a4f13d36-d15d-4b56-be91-0036a7d45eb5",
   "metadata": {},
   "outputs": [
    {
     "ename": "IndentationError",
     "evalue": "expected an indented block after 'if' statement on line 5 (3945341201.py, line 6)",
     "output_type": "error",
     "traceback": [
      "\u001b[1;36m  Cell \u001b[1;32mIn[5], line 6\u001b[1;36m\u001b[0m\n\u001b[1;33m    print(\"too high \")\u001b[0m\n\u001b[1;37m    ^\u001b[0m\n\u001b[1;31mIndentationError\u001b[0m\u001b[1;31m:\u001b[0m expected an indented block after 'if' statement on line 5\n"
     ]
    }
   ],
   "source": [
    "\n",
    "import random\n",
    "guess_number = random.randint(1,100)\n",
    "try:\n",
    "  user = int(input(\"enter the number btw 1 to 100 :\"))\n",
    "  if user >= guess_number:\n",
    "  print(\"too high \")\n",
    "  elif user <= guess_number:\n",
    "  print(\"too low\")\n",
    "  else:\n",
    "  print(\"well done \")\n",
    "except:\n",
    "  print(\"invalid input\")"
   ]
  },
  {
   "cell_type": "code",
   "execution_count": 1,
   "id": "030a64a4-8383-43a5-9954-ee16055a5eae",
   "metadata": {},
   "outputs": [
    {
     "name": "stdout",
     "output_type": "stream",
     "text": [
      "welcome to our restaurant here is the menu :\n",
      "pizza 40 \n",
      "burger 90\n",
      "pasta 110\n",
      "chicken 150\n",
      "mutton 69\n"
     ]
    },
    {
     "name": "stdin",
     "output_type": "stream",
     "text": [
      "enter your dish =  dd\n"
     ]
    },
    {
     "name": "stdout",
     "output_type": "stream",
     "text": [
      "sorry not available \n"
     ]
    },
    {
     "name": "stdin",
     "output_type": "stream",
     "text": [
      "do you want any another dish (yes/no) n\n"
     ]
    },
    {
     "name": "stdout",
     "output_type": "stream",
     "text": [
      "sorry not available \n",
      "okayy thankyou for visiting\n"
     ]
    }
   ],
   "source": [
    "menu = {\n",
    "    'pizza':40,\n",
    "    'burger':90,\n",
    "    'pasta':110,\n",
    "    'chicken':150,\n",
    "    'mutton':69\n",
    "}\n",
    "print(\"welcome to our restaurant here is the menu :\")\n",
    "print(\"pizza 40 \")\n",
    "print(\"burger 90\")\n",
    "print(\"pasta 110\")\n",
    "print(\"chicken 150\")\n",
    "print(\"mutton 69\")\n",
    "\n",
    "order_total = 0\n",
    "\n",
    "item1 = input(\"enter your dish = \")\n",
    "if item1 in menu:\n",
    "  order_total = item1\n",
    "  print(\"order has been taken\")\n",
    "else:\n",
    "  print(\"sorry not available \")\n",
    "another_order = input(\"do you want any another dish (yes/no)\")\n",
    "if another_order == \"yes\":\n",
    "  item2 = input((\"what else you want to order :\"))\n",
    "else:\n",
    "  print(\"sorry not available \")\n",
    "print(\"okayy thankyou for visiting\")\n"
   ]
  },
  {
   "cell_type": "code",
   "execution_count": 15,
   "id": "7a0545bd-68e8-4065-a914-530bed21eb58",
   "metadata": {},
   "outputs": [
    {
     "name": "stdin",
     "output_type": "stream",
     "text": [
      "enter any number 7\n"
     ]
    },
    {
     "name": "stdout",
     "output_type": "stream",
     "text": [
      " the square  and the cube of the given number is 49, 343\n"
     ]
    }
   ],
   "source": [
    "a = int(input(\"enter any number\"))\n",
    "cube = a*a*a\n",
    "square = a*a\n",
    "print(f' the square  and the cube of the given number is {square}, {cube}')\n",
    "\n"
   ]
  },
  {
   "cell_type": "code",
   "execution_count": null,
   "id": "5b0cd092-a508-43dc-88ae-456dfd0551d5",
   "metadata": {},
   "outputs": [],
   "source": [
    "l = "
   ]
  }
 ],
 "metadata": {
  "kernelspec": {
   "display_name": "Python [conda env:base] *",
   "language": "python",
   "name": "conda-base-py"
  },
  "language_info": {
   "codemirror_mode": {
    "name": "ipython",
    "version": 3
   },
   "file_extension": ".py",
   "mimetype": "text/x-python",
   "name": "python",
   "nbconvert_exporter": "python",
   "pygments_lexer": "ipython3",
   "version": "3.12.7"
  }
 },
 "nbformat": 4,
 "nbformat_minor": 5
}
