{
 "cells": [
  {
   "cell_type": "code",
   "execution_count": 1,
   "id": "53956e70-a388-4dd0-a244-fb8b2dd01727",
   "metadata": {},
   "outputs": [
    {
     "name": "stdout",
     "output_type": "stream",
     "text": [
      "Requirement already satisfied: google-generativeai in c:\\users\\sahil\\anaconda3\\lib\\site-packages (0.8.5)\n",
      "Requirement already satisfied: google-ai-generativelanguage==0.6.15 in c:\\users\\sahil\\anaconda3\\lib\\site-packages (from google-generativeai) (0.6.15)\n",
      "Requirement already satisfied: google-api-core in c:\\users\\sahil\\anaconda3\\lib\\site-packages (from google-generativeai) (2.25.1)\n",
      "Requirement already satisfied: google-api-python-client in c:\\users\\sahil\\anaconda3\\lib\\site-packages (from google-generativeai) (2.176.0)\n",
      "Requirement already satisfied: google-auth>=2.15.0 in c:\\users\\sahil\\anaconda3\\lib\\site-packages (from google-generativeai) (2.40.3)\n",
      "Requirement already satisfied: protobuf in c:\\users\\sahil\\anaconda3\\lib\\site-packages (from google-generativeai) (5.29.5)\n",
      "Requirement already satisfied: pydantic in c:\\users\\sahil\\anaconda3\\lib\\site-packages (from google-generativeai) (2.8.2)\n",
      "Requirement already satisfied: tqdm in c:\\users\\sahil\\anaconda3\\lib\\site-packages (from google-generativeai) (4.66.5)\n",
      "Requirement already satisfied: typing-extensions in c:\\users\\sahil\\anaconda3\\lib\\site-packages (from google-generativeai) (4.11.0)\n",
      "Requirement already satisfied: proto-plus<2.0.0dev,>=1.22.3 in c:\\users\\sahil\\anaconda3\\lib\\site-packages (from google-ai-generativelanguage==0.6.15->google-generativeai) (1.26.1)\n",
      "Requirement already satisfied: googleapis-common-protos<2.0.0,>=1.56.2 in c:\\users\\sahil\\anaconda3\\lib\\site-packages (from google-api-core->google-generativeai) (1.70.0)\n",
      "Requirement already satisfied: requests<3.0.0,>=2.18.0 in c:\\users\\sahil\\anaconda3\\lib\\site-packages (from google-api-core->google-generativeai) (2.32.3)\n",
      "Requirement already satisfied: cachetools<6.0,>=2.0.0 in c:\\users\\sahil\\anaconda3\\lib\\site-packages (from google-auth>=2.15.0->google-generativeai) (5.3.3)\n",
      "Requirement already satisfied: pyasn1-modules>=0.2.1 in c:\\users\\sahil\\anaconda3\\lib\\site-packages (from google-auth>=2.15.0->google-generativeai) (0.2.8)\n",
      "Requirement already satisfied: rsa<5,>=3.1.4 in c:\\users\\sahil\\anaconda3\\lib\\site-packages (from google-auth>=2.15.0->google-generativeai) (4.9.1)\n",
      "Requirement already satisfied: httplib2<1.0.0,>=0.19.0 in c:\\users\\sahil\\anaconda3\\lib\\site-packages (from google-api-python-client->google-generativeai) (0.22.0)\n",
      "Requirement already satisfied: google-auth-httplib2<1.0.0,>=0.2.0 in c:\\users\\sahil\\anaconda3\\lib\\site-packages (from google-api-python-client->google-generativeai) (0.2.0)\n",
      "Requirement already satisfied: uritemplate<5,>=3.0.1 in c:\\users\\sahil\\anaconda3\\lib\\site-packages (from google-api-python-client->google-generativeai) (4.2.0)\n",
      "Requirement already satisfied: annotated-types>=0.4.0 in c:\\users\\sahil\\anaconda3\\lib\\site-packages (from pydantic->google-generativeai) (0.6.0)\n",
      "Requirement already satisfied: pydantic-core==2.20.1 in c:\\users\\sahil\\anaconda3\\lib\\site-packages (from pydantic->google-generativeai) (2.20.1)\n",
      "Requirement already satisfied: colorama in c:\\users\\sahil\\anaconda3\\lib\\site-packages (from tqdm->google-generativeai) (0.4.6)\n",
      "Requirement already satisfied: grpcio<2.0.0,>=1.33.2 in c:\\users\\sahil\\anaconda3\\lib\\site-packages (from google-api-core[grpc]!=2.0.*,!=2.1.*,!=2.10.*,!=2.2.*,!=2.3.*,!=2.4.*,!=2.5.*,!=2.6.*,!=2.7.*,!=2.8.*,!=2.9.*,<3.0.0dev,>=1.34.1->google-ai-generativelanguage==0.6.15->google-generativeai) (1.73.1)\n",
      "Requirement already satisfied: grpcio-status<2.0.0,>=1.33.2 in c:\\users\\sahil\\anaconda3\\lib\\site-packages (from google-api-core[grpc]!=2.0.*,!=2.1.*,!=2.10.*,!=2.2.*,!=2.3.*,!=2.4.*,!=2.5.*,!=2.6.*,!=2.7.*,!=2.8.*,!=2.9.*,<3.0.0dev,>=1.34.1->google-ai-generativelanguage==0.6.15->google-generativeai) (1.71.2)\n",
      "Requirement already satisfied: pyparsing!=3.0.0,!=3.0.1,!=3.0.2,!=3.0.3,<4,>=2.4.2 in c:\\users\\sahil\\anaconda3\\lib\\site-packages (from httplib2<1.0.0,>=0.19.0->google-api-python-client->google-generativeai) (3.1.2)\n",
      "Requirement already satisfied: pyasn1<0.5.0,>=0.4.6 in c:\\users\\sahil\\anaconda3\\lib\\site-packages (from pyasn1-modules>=0.2.1->google-auth>=2.15.0->google-generativeai) (0.4.8)\n",
      "Requirement already satisfied: charset-normalizer<4,>=2 in c:\\users\\sahil\\anaconda3\\lib\\site-packages (from requests<3.0.0,>=2.18.0->google-api-core->google-generativeai) (3.3.2)\n",
      "Requirement already satisfied: idna<4,>=2.5 in c:\\users\\sahil\\anaconda3\\lib\\site-packages (from requests<3.0.0,>=2.18.0->google-api-core->google-generativeai) (3.7)\n",
      "Requirement already satisfied: urllib3<3,>=1.21.1 in c:\\users\\sahil\\anaconda3\\lib\\site-packages (from requests<3.0.0,>=2.18.0->google-api-core->google-generativeai) (2.2.3)\n",
      "Requirement already satisfied: certifi>=2017.4.17 in c:\\users\\sahil\\anaconda3\\lib\\site-packages (from requests<3.0.0,>=2.18.0->google-api-core->google-generativeai) (2025.1.31)\n",
      "Note: you may need to restart the kernel to use updated packages.\n"
     ]
    }
   ],
   "source": [
    "pip install -U google-generativeai"
   ]
  },
  {
   "cell_type": "code",
   "execution_count": 9,
   "id": "7436ac3e-c1f5-41fb-87ef-75131832de57",
   "metadata": {},
   "outputs": [],
   "source": [
    "import google.generativeai as genai"
   ]
  },
  {
   "cell_type": "code",
   "execution_count": 11,
   "id": "dbb0001c-e8ef-4d1c-9846-66b28caaf937",
   "metadata": {},
   "outputs": [],
   "source": [
    "genai.configure(api_key=\"Your key\")"
   ]
  },
  {
   "cell_type": "code",
   "execution_count": 17,
   "id": "57d88b42-9cc7-411f-912d-f14d0042c322",
   "metadata": {},
   "outputs": [],
   "source": [
    "model = genai.GenerativeModel(\"gemini-2.5-flash-preview-04-17\")"
   ]
  },
  {
   "cell_type": "code",
   "execution_count": 19,
   "id": "315f1050-4f8f-422d-a127-ac73d0c0ef49",
   "metadata": {},
   "outputs": [
    {
     "name": "stdout",
     "output_type": "stream",
     "text": [
      "Hello there!\n",
      "\n",
      "As an AI, I don't have feelings or personal experiences like humans do, so I don't \"do\" in the way you mean. However, I'm functioning perfectly and ready to assist you!\n",
      "\n",
      "How are *you* doing today? And how can I help you?\n"
     ]
    }
   ],
   "source": [
    "response = model.generate_content(\"Hello! How are you doing today?\")\n",
    "print(response.text)"
   ]
  },
  {
   "cell_type": "code",
   "execution_count": 22,
   "id": "f9b88fb5-970e-47b6-85b1-0420d1a4a0f7",
   "metadata": {},
   "outputs": [],
   "source": [
    "response = model.generate_content(\n",
    "    \"Explain in simple words:\\n\"\n",
    "    \"1. What is Artificial Intelligence (AI)?\\n\"\n",
    "    \"2. What is Generative AI?\\n\"\n",
    "    \"3. What is Agentic AI?\\n\"\n",
    "    \"4. How are they different from each other?\\n\"\n",
    "    \"Give short, beginner-friendly answers.\"\n",
    ")"
   ]
  },
  {
   "cell_type": "code",
   "execution_count": 24,
   "id": "f0fa219a-78da-4f12-a8a8-47689e49db65",
   "metadata": {},
   "outputs": [
    {
     "name": "stdout",
     "output_type": "stream",
     "text": [
      "Okay, let's break these down simply:\n",
      "\n",
      "1.  **What is Artificial Intelligence (AI)?**\n",
      "    *   **Simple words:** Imagine giving a computer a kind of \"brain\" so it can do tasks that usually need human smarts, like learning, solving problems, and making simple decisions. It's about machines being able to think and act in ways we'd call intelligent.\n",
      "\n",
      "2.  **What is Generative AI?**\n",
      "    *   **Simple words:** This is a *type* of AI that can *create* new stuff. Think text (like stories or emails), images, music, or even computer code, by learning from tons of examples it's seen before and then generating something original based on those patterns.\n",
      "\n",
      "3.  **What is Agentic AI?**\n",
      "    *   **Simple words:** This is an AI designed to *act* on its own to achieve a specific *goal*. Instead of just answering a question, it might figure out the steps needed, use different tools (like searching the web or using software), and interact with things to get the job done. It's like having an AI that can take initiative and complete tasks for you.\n",
      "\n",
      "4.  **How are they different from each other?**\n",
      "    *   **AI** is the big umbrella term – the general idea of making machines intelligent.\n",
      "    *   **Generative AI** is a *specific use* of AI focused only on *creating* new content (text, images, etc.).\n",
      "    *   **Agentic AI** is a *specific way* AI *operates* – it's about taking action, planning, and using tools to *achieve a goal*, rather than just answering a question or creating something on command. An Agentic AI might even *use* Generative AI as one of its tools to help achieve its goal (e.g., an Agentic AI trying to write a report might use Generative AI to draft a paragraph).\n"
     ]
    }
   ],
   "source": [
    "print(response.text)\n"
   ]
  },
  {
   "cell_type": "code",
   "execution_count": 26,
   "id": "6d7b7ede-7d7d-44a0-9e3c-aab3ec22d3dd",
   "metadata": {},
   "outputs": [],
   "source": [
    "import textwrap\n",
    "from IPython.display import Markdown"
   ]
  },
  {
   "cell_type": "code",
   "execution_count": 30,
   "id": "721fb4e9-e410-457d-8062-789e5f8ef756",
   "metadata": {},
   "outputs": [],
   "source": [
    "def to_markdown(text):\n",
    "    text = text.replace('-', ' *')\n",
    "    return Markdown(textwrap.indent(text, '> ', predicate=lambda _: True))"
   ]
  },
  {
   "cell_type": "code",
   "execution_count": 32,
   "id": "83780277-9780-4d86-ba39-bf0864e97734",
   "metadata": {},
   "outputs": [
    {
     "data": {
      "text/markdown": [
       "> Okay, let's break these down simply:\n",
       "> \n",
       "> 1.  **What is Artificial Intelligence (AI)?**\n",
       ">     *   **Simple words:** Imagine giving a computer a kind of \"brain\" so it can do tasks that usually need human smarts, like learning, solving problems, and making simple decisions. It's about machines being able to think and act in ways we'd call intelligent.\n",
       "> \n",
       "> 2.  **What is Generative AI?**\n",
       ">     *   **Simple words:** This is a *type* of AI that can *create* new stuff. Think text (like stories or emails), images, music, or even computer code, by learning from tons of examples it's seen before and then generating something original based on those patterns.\n",
       "> \n",
       "> 3.  **What is Agentic AI?**\n",
       ">     *   **Simple words:** This is an AI designed to *act* on its own to achieve a specific *goal*. Instead of just answering a question, it might figure out the steps needed, use different tools (like searching the web or using software), and interact with things to get the job done. It's like having an AI that can take initiative and complete tasks for you.\n",
       "> \n",
       "> 4.  **How are they different from each other?**\n",
       ">     *   **AI** is the big umbrella term – the general idea of making machines intelligent.\n",
       ">     *   **Generative AI** is a *specific use* of AI focused only on *creating* new content (text, images, etc.).\n",
       ">     *   **Agentic AI** is a *specific way* AI *operates* – it's about taking action, planning, and using tools to *achieve a goal*, rather than just answering a question or creating something on command. An Agentic AI might even *use* Generative AI as one of its tools to help achieve its goal (e.g., an Agentic AI trying to write a report might use Generative AI to draft a paragraph)."
      ],
      "text/plain": [
       "<IPython.core.display.Markdown object>"
      ]
     },
     "execution_count": 32,
     "metadata": {},
     "output_type": "execute_result"
    }
   ],
   "source": [
    "to_markdown(response.text)"
   ]
  },
  {
   "cell_type": "code",
   "execution_count": null,
   "id": "18a74507-920e-4cb5-9272-95735c5b98a3",
   "metadata": {},
   "outputs": [],
   "source": []
  }
 ],
 "metadata": {
  "kernelspec": {
   "display_name": "Python [conda env:base] *",
   "language": "python",
   "name": "conda-base-py"
  },
  "language_info": {
   "codemirror_mode": {
    "name": "ipython",
    "version": 3
   },
   "file_extension": ".py",
   "mimetype": "text/x-python",
   "name": "python",
   "nbconvert_exporter": "python",
   "pygments_lexer": "ipython3",
   "version": "3.12.7"
  }
 },
 "nbformat": 4,
 "nbformat_minor": 5
}
